{
  "nbformat": 4,
  "nbformat_minor": 0,
  "metadata": {
    "colab": {
      "name": "Playing Ball Detection",
      "provenance": [],
      "collapsed_sections": [],
      "authorship_tag": "ABX9TyP13x6H27QSVTShraAbyaPs",
      "include_colab_link": true
    },
    "kernelspec": {
      "name": "python3",
      "display_name": "Python 3"
    },
    "language_info": {
      "name": "python"
    },
    "accelerator": "GPU",
    "widgets": {
      "application/vnd.jupyter.widget-state+json": {
        "861de3afa0544ecfa45f2fb16281563a": {
          "model_module": "@jupyter-widgets/controls",
          "model_name": "FileUploadModel",
          "model_module_version": "1.5.0",
          "state": {
            "_view_name": "FileUploadView",
            "_counter": 1,
            "style": "IPY_MODEL_457921578987402f9126a1f805819fb9",
            "_dom_classes": [],
            "description": "Upload",
            "multiple": false,
            "_model_name": "FileUploadModel",
            "data": [
              null
            ],
            "button_style": "",
            "_view_module": "@jupyter-widgets/controls",
            "_model_module_version": "1.5.0",
            "accept": "",
            "_view_count": null,
            "disabled": false,
            "_view_module_version": "1.5.0",
            "error": "",
            "description_tooltip": null,
            "metadata": [
              {
                "name": "football.jpg",
                "type": "image/jpeg",
                "size": 97825,
                "lastModified": 1635869574209
              }
            ],
            "_model_module": "@jupyter-widgets/controls",
            "layout": "IPY_MODEL_31bdf62e32c247db8f2841fa8fa623e0",
            "icon": "upload"
          }
        },
        "457921578987402f9126a1f805819fb9": {
          "model_module": "@jupyter-widgets/controls",
          "model_name": "ButtonStyleModel",
          "model_module_version": "1.5.0",
          "state": {
            "_view_name": "StyleView",
            "_model_name": "ButtonStyleModel",
            "_view_module": "@jupyter-widgets/base",
            "_model_module_version": "1.5.0",
            "_view_count": null,
            "button_color": null,
            "font_weight": "",
            "_view_module_version": "1.2.0",
            "_model_module": "@jupyter-widgets/controls"
          }
        },
        "31bdf62e32c247db8f2841fa8fa623e0": {
          "model_module": "@jupyter-widgets/base",
          "model_name": "LayoutModel",
          "model_module_version": "1.2.0",
          "state": {
            "_view_name": "LayoutView",
            "grid_template_rows": null,
            "right": null,
            "justify_content": null,
            "_view_module": "@jupyter-widgets/base",
            "overflow": null,
            "_model_module_version": "1.2.0",
            "_view_count": null,
            "flex_flow": null,
            "width": null,
            "min_width": null,
            "border": null,
            "align_items": null,
            "bottom": null,
            "_model_module": "@jupyter-widgets/base",
            "top": null,
            "grid_column": null,
            "overflow_y": null,
            "overflow_x": null,
            "grid_auto_flow": null,
            "grid_area": null,
            "grid_template_columns": null,
            "flex": null,
            "_model_name": "LayoutModel",
            "justify_items": null,
            "grid_row": null,
            "max_height": null,
            "align_content": null,
            "visibility": null,
            "align_self": null,
            "height": null,
            "min_height": null,
            "padding": null,
            "grid_auto_rows": null,
            "grid_gap": null,
            "max_width": null,
            "order": null,
            "_view_module_version": "1.2.0",
            "grid_template_areas": null,
            "object_position": null,
            "object_fit": null,
            "grid_auto_columns": null,
            "margin": null,
            "display": null,
            "left": null
          }
        },
        "e7e354478e0b4ca99c21f0181fb06f00": {
          "model_module": "@jupyter-widgets/output",
          "model_name": "OutputModel",
          "model_module_version": "1.0.0",
          "state": {
            "_view_name": "OutputView",
            "msg_id": "",
            "_dom_classes": [],
            "_model_name": "OutputModel",
            "outputs": [
              {
                "output_type": "display_data",
                "data": {
                  "image/png": "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\n",
                  "text/plain": "<PIL.Image.Image image mode=RGB size=95x128 at 0x7F8BE1FB8150>"
                },
                "metadata": {}
              }
            ],
            "_view_module": "@jupyter-widgets/output",
            "_model_module_version": "1.0.0",
            "_view_count": null,
            "_view_module_version": "1.0.0",
            "layout": "IPY_MODEL_d33db1c9acba44ea9be7734aeea620ab",
            "_model_module": "@jupyter-widgets/output"
          }
        },
        "d33db1c9acba44ea9be7734aeea620ab": {
          "model_module": "@jupyter-widgets/base",
          "model_name": "LayoutModel",
          "model_module_version": "1.2.0",
          "state": {
            "_view_name": "LayoutView",
            "grid_template_rows": null,
            "right": null,
            "justify_content": null,
            "_view_module": "@jupyter-widgets/base",
            "overflow": null,
            "_model_module_version": "1.2.0",
            "_view_count": null,
            "flex_flow": null,
            "width": null,
            "min_width": null,
            "border": null,
            "align_items": null,
            "bottom": null,
            "_model_module": "@jupyter-widgets/base",
            "top": null,
            "grid_column": null,
            "overflow_y": null,
            "overflow_x": null,
            "grid_auto_flow": null,
            "grid_area": null,
            "grid_template_columns": null,
            "flex": null,
            "_model_name": "LayoutModel",
            "justify_items": null,
            "grid_row": null,
            "max_height": null,
            "align_content": null,
            "visibility": null,
            "align_self": null,
            "height": null,
            "min_height": null,
            "padding": null,
            "grid_auto_rows": null,
            "grid_gap": null,
            "max_width": null,
            "order": null,
            "_view_module_version": "1.2.0",
            "grid_template_areas": null,
            "object_position": null,
            "object_fit": null,
            "grid_auto_columns": null,
            "margin": null,
            "display": null,
            "left": null
          }
        },
        "92f65f2d7d3d4a7a879be182a0a71c70": {
          "model_module": "@jupyter-widgets/controls",
          "model_name": "LabelModel",
          "model_module_version": "1.5.0",
          "state": {
            "_view_name": "LabelView",
            "style": "IPY_MODEL_d9ba5c789bdf4f01bfe16fa54ef58829",
            "_dom_classes": [],
            "description": "",
            "_model_name": "LabelModel",
            "placeholder": "​",
            "_view_module": "@jupyter-widgets/controls",
            "_model_module_version": "1.5.0",
            "value": "Prediction: soccer; Probability: 0.8007",
            "_view_count": null,
            "_view_module_version": "1.5.0",
            "description_tooltip": null,
            "_model_module": "@jupyter-widgets/controls",
            "layout": "IPY_MODEL_aa227444b1274876be1b492d83ef5160"
          }
        },
        "d9ba5c789bdf4f01bfe16fa54ef58829": {
          "model_module": "@jupyter-widgets/controls",
          "model_name": "DescriptionStyleModel",
          "model_module_version": "1.5.0",
          "state": {
            "_view_name": "StyleView",
            "_model_name": "DescriptionStyleModel",
            "description_width": "",
            "_view_module": "@jupyter-widgets/base",
            "_model_module_version": "1.5.0",
            "_view_count": null,
            "_view_module_version": "1.2.0",
            "_model_module": "@jupyter-widgets/controls"
          }
        },
        "aa227444b1274876be1b492d83ef5160": {
          "model_module": "@jupyter-widgets/base",
          "model_name": "LayoutModel",
          "model_module_version": "1.2.0",
          "state": {
            "_view_name": "LayoutView",
            "grid_template_rows": null,
            "right": null,
            "justify_content": null,
            "_view_module": "@jupyter-widgets/base",
            "overflow": null,
            "_model_module_version": "1.2.0",
            "_view_count": null,
            "flex_flow": null,
            "width": null,
            "min_width": null,
            "border": null,
            "align_items": null,
            "bottom": null,
            "_model_module": "@jupyter-widgets/base",
            "top": null,
            "grid_column": null,
            "overflow_y": null,
            "overflow_x": null,
            "grid_auto_flow": null,
            "grid_area": null,
            "grid_template_columns": null,
            "flex": null,
            "_model_name": "LayoutModel",
            "justify_items": null,
            "grid_row": null,
            "max_height": null,
            "align_content": null,
            "visibility": null,
            "align_self": null,
            "height": null,
            "min_height": null,
            "padding": null,
            "grid_auto_rows": null,
            "grid_gap": null,
            "max_width": null,
            "order": null,
            "_view_module_version": "1.2.0",
            "grid_template_areas": null,
            "object_position": null,
            "object_fit": null,
            "grid_auto_columns": null,
            "margin": null,
            "display": null,
            "left": null
          }
        },
        "cebb798ccb964be0991881c3628a7cd7": {
          "model_module": "@jupyter-widgets/controls",
          "model_name": "ButtonModel",
          "model_module_version": "1.5.0",
          "state": {
            "_view_name": "ButtonView",
            "style": "IPY_MODEL_f99070e9ef7f4372b08f7ee931540844",
            "_dom_classes": [],
            "description": "Classify",
            "_model_name": "ButtonModel",
            "button_style": "",
            "_view_module": "@jupyter-widgets/controls",
            "_model_module_version": "1.5.0",
            "tooltip": "",
            "_view_count": null,
            "disabled": false,
            "_view_module_version": "1.5.0",
            "layout": "IPY_MODEL_9d31c989d2f14ab4a688017df48915b3",
            "_model_module": "@jupyter-widgets/controls",
            "icon": ""
          }
        },
        "f99070e9ef7f4372b08f7ee931540844": {
          "model_module": "@jupyter-widgets/controls",
          "model_name": "ButtonStyleModel",
          "model_module_version": "1.5.0",
          "state": {
            "_view_name": "StyleView",
            "_model_name": "ButtonStyleModel",
            "_view_module": "@jupyter-widgets/base",
            "_model_module_version": "1.5.0",
            "_view_count": null,
            "button_color": null,
            "font_weight": "",
            "_view_module_version": "1.2.0",
            "_model_module": "@jupyter-widgets/controls"
          }
        },
        "9d31c989d2f14ab4a688017df48915b3": {
          "model_module": "@jupyter-widgets/base",
          "model_name": "LayoutModel",
          "model_module_version": "1.2.0",
          "state": {
            "_view_name": "LayoutView",
            "grid_template_rows": null,
            "right": null,
            "justify_content": null,
            "_view_module": "@jupyter-widgets/base",
            "overflow": null,
            "_model_module_version": "1.2.0",
            "_view_count": null,
            "flex_flow": null,
            "width": null,
            "min_width": null,
            "border": null,
            "align_items": null,
            "bottom": null,
            "_model_module": "@jupyter-widgets/base",
            "top": null,
            "grid_column": null,
            "overflow_y": null,
            "overflow_x": null,
            "grid_auto_flow": null,
            "grid_area": null,
            "grid_template_columns": null,
            "flex": null,
            "_model_name": "LayoutModel",
            "justify_items": null,
            "grid_row": null,
            "max_height": null,
            "align_content": null,
            "visibility": null,
            "align_self": null,
            "height": null,
            "min_height": null,
            "padding": null,
            "grid_auto_rows": null,
            "grid_gap": null,
            "max_width": null,
            "order": null,
            "_view_module_version": "1.2.0",
            "grid_template_areas": null,
            "object_position": null,
            "object_fit": null,
            "grid_auto_columns": null,
            "margin": null,
            "display": null,
            "left": null
          }
        },
        "8137a292691144d4829c8c08982b83fc": {
          "model_module": "@jupyter-widgets/controls",
          "model_name": "VBoxModel",
          "model_module_version": "1.5.0",
          "state": {
            "_view_name": "VBoxView",
            "_dom_classes": [],
            "_model_name": "VBoxModel",
            "_view_module": "@jupyter-widgets/controls",
            "_model_module_version": "1.5.0",
            "_view_count": null,
            "_view_module_version": "1.5.0",
            "box_style": "",
            "layout": "IPY_MODEL_6db8239f066149168fd483378e2bcf4e",
            "_model_module": "@jupyter-widgets/controls",
            "children": [
              "IPY_MODEL_bf30530394a646f490d88df7e185507c",
              "IPY_MODEL_9f6eeba70384465fb72b35f1a41ebfa1",
              "IPY_MODEL_cebb798ccb964be0991881c3628a7cd7",
              "IPY_MODEL_e7e354478e0b4ca99c21f0181fb06f00",
              "IPY_MODEL_92f65f2d7d3d4a7a879be182a0a71c70"
            ]
          }
        },
        "6db8239f066149168fd483378e2bcf4e": {
          "model_module": "@jupyter-widgets/base",
          "model_name": "LayoutModel",
          "model_module_version": "1.2.0",
          "state": {
            "_view_name": "LayoutView",
            "grid_template_rows": null,
            "right": null,
            "justify_content": null,
            "_view_module": "@jupyter-widgets/base",
            "overflow": null,
            "_model_module_version": "1.2.0",
            "_view_count": null,
            "flex_flow": null,
            "width": null,
            "min_width": null,
            "border": null,
            "align_items": null,
            "bottom": null,
            "_model_module": "@jupyter-widgets/base",
            "top": null,
            "grid_column": null,
            "overflow_y": null,
            "overflow_x": null,
            "grid_auto_flow": null,
            "grid_area": null,
            "grid_template_columns": null,
            "flex": null,
            "_model_name": "LayoutModel",
            "justify_items": null,
            "grid_row": null,
            "max_height": null,
            "align_content": null,
            "visibility": null,
            "align_self": null,
            "height": null,
            "min_height": null,
            "padding": null,
            "grid_auto_rows": null,
            "grid_gap": null,
            "max_width": null,
            "order": null,
            "_view_module_version": "1.2.0",
            "grid_template_areas": null,
            "object_position": null,
            "object_fit": null,
            "grid_auto_columns": null,
            "margin": null,
            "display": null,
            "left": null
          }
        },
        "bf30530394a646f490d88df7e185507c": {
          "model_module": "@jupyter-widgets/controls",
          "model_name": "LabelModel",
          "model_module_version": "1.5.0",
          "state": {
            "_view_name": "LabelView",
            "style": "IPY_MODEL_70752ab5c5e146b79267543e45fd0c38",
            "_dom_classes": [],
            "description": "",
            "_model_name": "LabelModel",
            "placeholder": "​",
            "_view_module": "@jupyter-widgets/controls",
            "_model_module_version": "1.5.0",
            "value": "Select a ball image!",
            "_view_count": null,
            "_view_module_version": "1.5.0",
            "description_tooltip": null,
            "_model_module": "@jupyter-widgets/controls",
            "layout": "IPY_MODEL_0747bd50a6ec4aa88df58c88ef5728fa"
          }
        },
        "9f6eeba70384465fb72b35f1a41ebfa1": {
          "model_module": "@jupyter-widgets/controls",
          "model_name": "FileUploadModel",
          "model_module_version": "1.5.0",
          "state": {
            "_view_name": "FileUploadView",
            "_counter": 1,
            "style": "IPY_MODEL_d2260053655e440fab6b2964ba53c94f",
            "_dom_classes": [],
            "description": "Upload",
            "multiple": false,
            "_model_name": "FileUploadModel",
            "data": [
              null
            ],
            "button_style": "",
            "_view_module": "@jupyter-widgets/controls",
            "_model_module_version": "1.5.0",
            "accept": "",
            "_view_count": null,
            "disabled": false,
            "_view_module_version": "1.5.0",
            "error": "",
            "description_tooltip": null,
            "metadata": [
              {
                "name": "football.jpg",
                "type": "image/jpeg",
                "size": 97825,
                "lastModified": 1635869574209
              }
            ],
            "_model_module": "@jupyter-widgets/controls",
            "layout": "IPY_MODEL_9e95ab0a6f484ff9996eb0f8e339e0d3",
            "icon": "upload"
          }
        },
        "70752ab5c5e146b79267543e45fd0c38": {
          "model_module": "@jupyter-widgets/controls",
          "model_name": "DescriptionStyleModel",
          "model_module_version": "1.5.0",
          "state": {
            "_view_name": "StyleView",
            "_model_name": "DescriptionStyleModel",
            "description_width": "",
            "_view_module": "@jupyter-widgets/base",
            "_model_module_version": "1.5.0",
            "_view_count": null,
            "_view_module_version": "1.2.0",
            "_model_module": "@jupyter-widgets/controls"
          }
        },
        "0747bd50a6ec4aa88df58c88ef5728fa": {
          "model_module": "@jupyter-widgets/base",
          "model_name": "LayoutModel",
          "model_module_version": "1.2.0",
          "state": {
            "_view_name": "LayoutView",
            "grid_template_rows": null,
            "right": null,
            "justify_content": null,
            "_view_module": "@jupyter-widgets/base",
            "overflow": null,
            "_model_module_version": "1.2.0",
            "_view_count": null,
            "flex_flow": null,
            "width": null,
            "min_width": null,
            "border": null,
            "align_items": null,
            "bottom": null,
            "_model_module": "@jupyter-widgets/base",
            "top": null,
            "grid_column": null,
            "overflow_y": null,
            "overflow_x": null,
            "grid_auto_flow": null,
            "grid_area": null,
            "grid_template_columns": null,
            "flex": null,
            "_model_name": "LayoutModel",
            "justify_items": null,
            "grid_row": null,
            "max_height": null,
            "align_content": null,
            "visibility": null,
            "align_self": null,
            "height": null,
            "min_height": null,
            "padding": null,
            "grid_auto_rows": null,
            "grid_gap": null,
            "max_width": null,
            "order": null,
            "_view_module_version": "1.2.0",
            "grid_template_areas": null,
            "object_position": null,
            "object_fit": null,
            "grid_auto_columns": null,
            "margin": null,
            "display": null,
            "left": null
          }
        },
        "d2260053655e440fab6b2964ba53c94f": {
          "model_module": "@jupyter-widgets/controls",
          "model_name": "ButtonStyleModel",
          "model_module_version": "1.5.0",
          "state": {
            "_view_name": "StyleView",
            "_model_name": "ButtonStyleModel",
            "_view_module": "@jupyter-widgets/base",
            "_model_module_version": "1.5.0",
            "_view_count": null,
            "button_color": null,
            "font_weight": "",
            "_view_module_version": "1.2.0",
            "_model_module": "@jupyter-widgets/controls"
          }
        },
        "9e95ab0a6f484ff9996eb0f8e339e0d3": {
          "model_module": "@jupyter-widgets/base",
          "model_name": "LayoutModel",
          "model_module_version": "1.2.0",
          "state": {
            "_view_name": "LayoutView",
            "grid_template_rows": null,
            "right": null,
            "justify_content": null,
            "_view_module": "@jupyter-widgets/base",
            "overflow": null,
            "_model_module_version": "1.2.0",
            "_view_count": null,
            "flex_flow": null,
            "width": null,
            "min_width": null,
            "border": null,
            "align_items": null,
            "bottom": null,
            "_model_module": "@jupyter-widgets/base",
            "top": null,
            "grid_column": null,
            "overflow_y": null,
            "overflow_x": null,
            "grid_auto_flow": null,
            "grid_area": null,
            "grid_template_columns": null,
            "flex": null,
            "_model_name": "LayoutModel",
            "justify_items": null,
            "grid_row": null,
            "max_height": null,
            "align_content": null,
            "visibility": null,
            "align_self": null,
            "height": null,
            "min_height": null,
            "padding": null,
            "grid_auto_rows": null,
            "grid_gap": null,
            "max_width": null,
            "order": null,
            "_view_module_version": "1.2.0",
            "grid_template_areas": null,
            "object_position": null,
            "object_fit": null,
            "grid_auto_columns": null,
            "margin": null,
            "display": null,
            "left": null
          }
        }
      }
    }
  },
  "cells": [
    {
      "cell_type": "markdown",
      "metadata": {
        "id": "view-in-github",
        "colab_type": "text"
      },
      "source": [
        "<a href=\"https://colab.research.google.com/github/sheikhasif1996/playing-ball-type-detection/blob/main/Playing_Ball_Detection.ipynb\" target=\"_parent\"><img src=\"https://colab.research.google.com/assets/colab-badge.svg\" alt=\"Open In Colab\"/></a>"
      ]
    },
    {
      "cell_type": "code",
      "metadata": {
        "id": "HTMT0A-IrdMB"
      },
      "source": [
        "#hide\n",
        "from fastbook import *\n",
        "from fastai.vision.widgets import *"
      ],
      "execution_count": null,
      "outputs": []
    },
    {
      "cell_type": "code",
      "metadata": {
        "id": "cGXRkCIfZcBh"
      },
      "source": [
        "learn.export()"
      ],
      "execution_count": null,
      "outputs": []
    },
    {
      "cell_type": "code",
      "metadata": {
        "colab": {
          "base_uri": "https://localhost:8080/"
        },
        "id": "9qTJnlPjZdKq",
        "outputId": "49f6dc4c-1847-49a0-dd16-47e99ab76151"
      },
      "source": [
        "path = Path()\n",
        "path.ls(file_exts='.pkl')"
      ],
      "execution_count": null,
      "outputs": [
        {
          "output_type": "execute_result",
          "data": {
            "text/plain": [
              "(#1) [Path('export.pkl')]"
            ]
          },
          "metadata": {},
          "execution_count": 20
        }
      ]
    },
    {
      "cell_type": "code",
      "metadata": {
        "id": "oILziNdHZnqB"
      },
      "source": [
        "learn_inf = load_learner(path/'export.pkl')"
      ],
      "execution_count": null,
      "outputs": []
    },
    {
      "cell_type": "code",
      "metadata": {
        "colab": {
          "base_uri": "https://localhost:8080/",
          "height": 35
        },
        "id": "GyGTotgEZnxs",
        "outputId": "d7689ca8-3ff8-4d00-b1b1-7b1e886d0cbd"
      },
      "source": [
        "learn_inf.predict('images/ball.jpg')"
      ],
      "execution_count": null,
      "outputs": [
        {
          "output_type": "display_data",
          "data": {
            "text/html": [
              ""
            ],
            "text/plain": [
              "<IPython.core.display.HTML object>"
            ]
          },
          "metadata": {}
        },
        {
          "output_type": "execute_result",
          "data": {
            "text/plain": [
              "('cricket', tensor(0), tensor([9.9960e-01, 1.8137e-06, 4.0031e-04]))"
            ]
          },
          "metadata": {},
          "execution_count": 27
        }
      ]
    },
    {
      "cell_type": "code",
      "metadata": {
        "colab": {
          "base_uri": "https://localhost:8080/"
        },
        "id": "Xyzl70clZg_k",
        "outputId": "5739a518-0cc4-4150-f391-98213b7e75e6"
      },
      "source": [
        "learn_inf.dls.vocab"
      ],
      "execution_count": null,
      "outputs": [
        {
          "output_type": "execute_result",
          "data": {
            "text/plain": [
              "['cricket', 'soccer', 'tennis']"
            ]
          },
          "metadata": {},
          "execution_count": 24
        }
      ]
    },
    {
      "cell_type": "code",
      "metadata": {
        "colab": {
          "base_uri": "https://localhost:8080/",
          "height": 49,
          "referenced_widgets": [
            "861de3afa0544ecfa45f2fb16281563a",
            "457921578987402f9126a1f805819fb9",
            "31bdf62e32c247db8f2841fa8fa623e0"
          ]
        },
        "id": "YDsnAJcfZjZe",
        "outputId": "70c8f0ab-18c9-406d-9e3c-18f26b1513b3"
      },
      "source": [
        "btn_upload = widgets.FileUpload()\n",
        "btn_upload"
      ],
      "execution_count": null,
      "outputs": [
        {
          "output_type": "display_data",
          "data": {
            "application/vnd.jupyter.widget-view+json": {
              "model_id": "861de3afa0544ecfa45f2fb16281563a",
              "version_minor": 0,
              "version_major": 2
            },
            "text/plain": [
              "FileUpload(value={}, description='Upload')"
            ]
          },
          "metadata": {}
        }
      ]
    },
    {
      "cell_type": "code",
      "metadata": {
        "id": "p2SNN_BHaLSl"
      },
      "source": [
        "btn_upload = SimpleNamespace(data = ['images/ball.jpg'])"
      ],
      "execution_count": null,
      "outputs": []
    },
    {
      "cell_type": "code",
      "metadata": {
        "id": "nZ6ejo8XbdNP"
      },
      "source": [
        "img = PILImage.create(btn_upload.data[-1])"
      ],
      "execution_count": null,
      "outputs": []
    },
    {
      "cell_type": "code",
      "metadata": {
        "colab": {
          "base_uri": "https://localhost:8080/",
          "height": 145,
          "referenced_widgets": [
            "e7e354478e0b4ca99c21f0181fb06f00",
            "d33db1c9acba44ea9be7734aeea620ab"
          ]
        },
        "id": "0Mi7L_ajbeS2",
        "outputId": "4e26900e-1e11-4667-e23e-1326bc09a2ed"
      },
      "source": [
        "out_pl = widgets.Output()\n",
        "out_pl.clear_output()\n",
        "with out_pl: display(img.to_thumb(128,128))\n",
        "out_pl"
      ],
      "execution_count": null,
      "outputs": [
        {
          "output_type": "display_data",
          "data": {
            "application/vnd.jupyter.widget-view+json": {
              "model_id": "e7e354478e0b4ca99c21f0181fb06f00",
              "version_minor": 0,
              "version_major": 2
            },
            "text/plain": [
              "Output()"
            ]
          },
          "metadata": {}
        }
      ]
    },
    {
      "cell_type": "code",
      "metadata": {
        "colab": {
          "base_uri": "https://localhost:8080/",
          "height": 17
        },
        "id": "gYgqyH-ibjOS",
        "outputId": "0f1dff61-646e-4186-8bdb-d87a9322edfc"
      },
      "source": [
        "pred,pred_idx,probs = learn_inf.predict(img)"
      ],
      "execution_count": null,
      "outputs": [
        {
          "output_type": "display_data",
          "data": {
            "text/html": [
              ""
            ],
            "text/plain": [
              "<IPython.core.display.HTML object>"
            ]
          },
          "metadata": {}
        }
      ]
    },
    {
      "cell_type": "code",
      "metadata": {
        "colab": {
          "base_uri": "https://localhost:8080/",
          "height": 48,
          "referenced_widgets": [
            "92f65f2d7d3d4a7a879be182a0a71c70",
            "d9ba5c789bdf4f01bfe16fa54ef58829",
            "aa227444b1274876be1b492d83ef5160"
          ]
        },
        "id": "F4carb_qb3PX",
        "outputId": "5a84f247-7a32-409b-c403-70f6a8d50ff5"
      },
      "source": [
        "lbl_pred = widgets.Label()\n",
        "lbl_pred.value = f'Prediction: {pred}; Probability: {probs[pred_idx]:.04f}'\n",
        "lbl_pred"
      ],
      "execution_count": null,
      "outputs": [
        {
          "output_type": "display_data",
          "data": {
            "application/vnd.jupyter.widget-view+json": {
              "model_id": "92f65f2d7d3d4a7a879be182a0a71c70",
              "version_minor": 0,
              "version_major": 2
            },
            "text/plain": [
              "Label(value='Prediction: cricket; Probability: 0.9996')"
            ]
          },
          "metadata": {}
        }
      ]
    },
    {
      "cell_type": "code",
      "metadata": {
        "colab": {
          "base_uri": "https://localhost:8080/",
          "height": 49,
          "referenced_widgets": [
            "cebb798ccb964be0991881c3628a7cd7",
            "f99070e9ef7f4372b08f7ee931540844",
            "9d31c989d2f14ab4a688017df48915b3"
          ]
        },
        "id": "CUaOJXKIb9-A",
        "outputId": "e2b6b9f4-6ca7-4329-ff87-adfbbaa78abd"
      },
      "source": [
        "btn_run = widgets.Button(description='Classify')\n",
        "btn_run"
      ],
      "execution_count": null,
      "outputs": [
        {
          "output_type": "display_data",
          "data": {
            "application/vnd.jupyter.widget-view+json": {
              "model_id": "cebb798ccb964be0991881c3628a7cd7",
              "version_minor": 0,
              "version_major": 2
            },
            "text/plain": [
              "Button(description='Classify', style=ButtonStyle())"
            ]
          },
          "metadata": {}
        }
      ]
    },
    {
      "cell_type": "code",
      "metadata": {
        "id": "jMchVuMYcCCj"
      },
      "source": [
        "def on_click_classify(change):\n",
        "    img = PILImage.create(btn_upload.data[-1])\n",
        "    out_pl.clear_output()\n",
        "    with out_pl: display(img.to_thumb(128,128))\n",
        "    pred,pred_idx,probs = learn_inf.predict(img)\n",
        "    lbl_pred.value = f'Prediction: {pred}; Probability: {probs[pred_idx]:.04f}'\n",
        "\n",
        "btn_run.on_click(on_click_classify)"
      ],
      "execution_count": null,
      "outputs": []
    },
    {
      "cell_type": "code",
      "metadata": {
        "id": "4z3UxjOBcIIZ"
      },
      "source": [
        "btn_upload = widgets.FileUpload()"
      ],
      "execution_count": null,
      "outputs": []
    },
    {
      "cell_type": "code",
      "metadata": {
        "colab": {
          "base_uri": "https://localhost:8080/",
          "height": 273,
          "referenced_widgets": [
            "8137a292691144d4829c8c08982b83fc",
            "6db8239f066149168fd483378e2bcf4e",
            "bf30530394a646f490d88df7e185507c",
            "9f6eeba70384465fb72b35f1a41ebfa1",
            "cebb798ccb964be0991881c3628a7cd7",
            "e7e354478e0b4ca99c21f0181fb06f00",
            "92f65f2d7d3d4a7a879be182a0a71c70",
            "70752ab5c5e146b79267543e45fd0c38",
            "0747bd50a6ec4aa88df58c88ef5728fa",
            "d2260053655e440fab6b2964ba53c94f",
            "9e95ab0a6f484ff9996eb0f8e339e0d3",
            "f99070e9ef7f4372b08f7ee931540844",
            "9d31c989d2f14ab4a688017df48915b3",
            "d9ba5c789bdf4f01bfe16fa54ef58829",
            "aa227444b1274876be1b492d83ef5160",
            "d33db1c9acba44ea9be7734aeea620ab"
          ]
        },
        "id": "A2DC6-Z_cReD",
        "outputId": "b8ccbd3d-9318-4517-b353-32e4a4daa69f"
      },
      "source": [
        "VBox([widgets.Label('Select a ball image!'), \n",
        "      btn_upload, btn_run, out_pl, lbl_pred])"
      ],
      "execution_count": null,
      "outputs": [
        {
          "output_type": "display_data",
          "data": {
            "application/vnd.jupyter.widget-view+json": {
              "model_id": "8137a292691144d4829c8c08982b83fc",
              "version_minor": 0,
              "version_major": 2
            },
            "text/plain": [
              "VBox(children=(Label(value='Select a ball image!'), FileUpload(value={}, description='Upload'), Button(descrip…"
            ]
          },
          "metadata": {}
        },
        {
          "output_type": "display_data",
          "data": {
            "text/html": [
              ""
            ],
            "text/plain": [
              "<IPython.core.display.HTML object>"
            ]
          },
          "metadata": {}
        }
      ]
    },
    {
      "cell_type": "code",
      "metadata": {
        "id": "SbgD4JpZczJT"
      },
      "source": [
        ""
      ],
      "execution_count": null,
      "outputs": []
    }
  ]
}